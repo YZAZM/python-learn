{
 "cells": [
  {
   "cell_type": "markdown",
   "id": "89bb78ec",
   "metadata": {
    "papermill": {
     "duration": 0.004114,
     "end_time": "2025-05-08T15:00:06.028155",
     "exception": false,
     "start_time": "2025-05-08T15:00:06.024041",
     "status": "completed"
    },
    "tags": []
   },
   "source": [
    "**This notebook is an exercise in the [Python](https://www.kaggle.com/learn/python) course.  You can reference the tutorial at [this link](https://www.kaggle.com/colinmorris/functions-and-getting-help).**\n",
    "\n",
    "---\n"
   ]
  },
  {
   "cell_type": "markdown",
   "id": "e67cc903",
   "metadata": {
    "papermill": {
     "duration": 0.003439,
     "end_time": "2025-05-08T15:00:06.035862",
     "exception": false,
     "start_time": "2025-05-08T15:00:06.032423",
     "status": "completed"
    },
    "tags": []
   },
   "source": [
    "Functions are powerful. Try writing some yourself.\n",
    "\n",
    "As before, don't forget to run the setup code below before jumping into question 1."
   ]
  },
  {
   "cell_type": "code",
   "execution_count": 1,
   "id": "03a3af5d",
   "metadata": {
    "_kg_hide-input": true,
    "_kg_hide-output": true,
    "execution": {
     "iopub.execute_input": "2025-05-08T15:00:06.044447Z",
     "iopub.status.busy": "2025-05-08T15:00:06.044106Z",
     "iopub.status.idle": "2025-05-08T15:00:07.951448Z",
     "shell.execute_reply": "2025-05-08T15:00:07.950581Z"
    },
    "papermill": {
     "duration": 1.91336,
     "end_time": "2025-05-08T15:00:07.952985",
     "exception": false,
     "start_time": "2025-05-08T15:00:06.039625",
     "status": "completed"
    },
    "tags": []
   },
   "outputs": [
    {
     "name": "stdout",
     "output_type": "stream",
     "text": [
      "Setup complete.\n"
     ]
    }
   ],
   "source": [
    "# SETUP. You don't need to worry for now about what this code does or how it works.\n",
    "from learntools.core import binder; binder.bind(globals())\n",
    "from learntools.python.ex2 import *\n",
    "print('Setup complete.')"
   ]
  },
  {
   "cell_type": "markdown",
   "id": "219b9b91",
   "metadata": {
    "papermill": {
     "duration": 0.00332,
     "end_time": "2025-05-08T15:00:07.960042",
     "exception": false,
     "start_time": "2025-05-08T15:00:07.956722",
     "status": "completed"
    },
    "tags": []
   },
   "source": [
    "# 1.\n",
    "\n",
    "Complete the body of the following function according to its docstring.\n",
    "\n",
    "HINT: Python has a built-in function `round`."
   ]
  },
  {
   "cell_type": "code",
   "execution_count": 2,
   "id": "5a3751cd",
   "metadata": {
    "execution": {
     "iopub.execute_input": "2025-05-08T15:00:07.968153Z",
     "iopub.status.busy": "2025-05-08T15:00:07.967581Z",
     "iopub.status.idle": "2025-05-08T15:00:07.976521Z",
     "shell.execute_reply": "2025-05-08T15:00:07.975654Z"
    },
    "papermill": {
     "duration": 0.014709,
     "end_time": "2025-05-08T15:00:07.978023",
     "exception": false,
     "start_time": "2025-05-08T15:00:07.963314",
     "status": "completed"
    },
    "tags": []
   },
   "outputs": [
    {
     "data": {
      "application/javascript": [
       "parent.postMessage({\"jupyterEvent\": \"custom.exercise_interaction\", \"data\": {\"outcomeType\": 1, \"valueTowardsCompletion\": 0.16666666666666666, \"interactionType\": 1, \"questionType\": 2, \"questionId\": \"1_RoundFunctionProblem\", \"learnToolsVersion\": \"0.3.5\", \"failureMessage\": \"\", \"exceptionClass\": \"\", \"trace\": \"\"}}, \"*\")"
      ],
      "text/plain": [
       "<IPython.core.display.Javascript object>"
      ]
     },
     "metadata": {},
     "output_type": "display_data"
    },
    {
     "data": {
      "text/markdown": [
       "<span style=\"color:#33cc33\">Correct</span>"
      ],
      "text/plain": [
       "Correct"
      ]
     },
     "metadata": {},
     "output_type": "display_data"
    }
   ],
   "source": [
    "def round_to_two_places(num):\n",
    "    \"\"\"Return the given number rounded to two decimal places. \n",
    "    >>> round_to_two_places(3.14159)\n",
    "    3.14\n",
    "    \"\"\"\n",
    "    # Replace this body with your own code.\n",
    "    # (\"pass\" is a keyword that does literally nothing. We used it as a placeholder\n",
    "    # because after we begin a code block, Python requires at least one line of code)\n",
    "    return round(num,2)\n",
    "\n",
    "# Check your answer\n",
    "q1.check()"
   ]
  },
  {
   "cell_type": "code",
   "execution_count": 3,
   "id": "a07a76c8",
   "metadata": {
    "execution": {
     "iopub.execute_input": "2025-05-08T15:00:07.986972Z",
     "iopub.status.busy": "2025-05-08T15:00:07.986339Z",
     "iopub.status.idle": "2025-05-08T15:00:07.996904Z",
     "shell.execute_reply": "2025-05-08T15:00:07.995968Z"
    },
    "papermill": {
     "duration": 0.01646,
     "end_time": "2025-05-08T15:00:07.998282",
     "exception": false,
     "start_time": "2025-05-08T15:00:07.981822",
     "status": "completed"
    },
    "tags": []
   },
   "outputs": [
    {
     "data": {
      "application/javascript": [
       "parent.postMessage({\"jupyterEvent\": \"custom.exercise_interaction\", \"data\": {\"interactionType\": 2, \"questionType\": 2, \"questionId\": \"1_RoundFunctionProblem\", \"learnToolsVersion\": \"0.3.5\", \"valueTowardsCompletion\": 0.0, \"failureMessage\": \"\", \"exceptionClass\": \"\", \"trace\": \"\", \"outcomeType\": 4}}, \"*\")"
      ],
      "text/plain": [
       "<IPython.core.display.Javascript object>"
      ]
     },
     "metadata": {},
     "output_type": "display_data"
    },
    {
     "data": {
      "text/markdown": [
       "<span style=\"color:#3366cc\">Hint:</span> Run `help(round)` in the console (or in a code cell) to learn more about the round function. You'll need to use the function's optional second argument."
      ],
      "text/plain": [
       "Hint: Run `help(round)` in the console (or in a code cell) to learn more about the round function. You'll need to use the function's optional second argument."
      ]
     },
     "metadata": {},
     "output_type": "display_data"
    },
    {
     "data": {
      "application/javascript": [
       "parent.postMessage({\"jupyterEvent\": \"custom.exercise_interaction\", \"data\": {\"interactionType\": 3, \"questionType\": 2, \"questionId\": \"1_RoundFunctionProblem\", \"learnToolsVersion\": \"0.3.5\", \"valueTowardsCompletion\": 0.0, \"failureMessage\": \"\", \"exceptionClass\": \"\", \"trace\": \"\", \"outcomeType\": 4}}, \"*\")"
      ],
      "text/plain": [
       "<IPython.core.display.Javascript object>"
      ]
     },
     "metadata": {},
     "output_type": "display_data"
    },
    {
     "data": {
      "text/markdown": [
       "<span style=\"color:#33cc99\">Solution:</span> \n",
       "```python\n",
       "return round(num, 2)\n",
       "```"
      ],
      "text/plain": [
       "Solution: \n",
       "```python\n",
       "return round(num, 2)\n",
       "```"
      ]
     },
     "metadata": {},
     "output_type": "display_data"
    }
   ],
   "source": [
    "# Uncomment the following for a hint\n",
    "q1.hint()\n",
    "# Or uncomment the following to peek at the solution\n",
    "q1.solution()"
   ]
  },
  {
   "cell_type": "markdown",
   "id": "ab383909",
   "metadata": {
    "papermill": {
     "duration": 0.003691,
     "end_time": "2025-05-08T15:00:08.006116",
     "exception": false,
     "start_time": "2025-05-08T15:00:08.002425",
     "status": "completed"
    },
    "tags": []
   },
   "source": [
    "# 2.\n",
    "The help for `round` says that `ndigits` (the second argument) may be negative.\n",
    "What do you think will happen when it is? Try some examples in the following cell."
   ]
  },
  {
   "cell_type": "code",
   "execution_count": 4,
   "id": "86a4511e",
   "metadata": {
    "execution": {
     "iopub.execute_input": "2025-05-08T15:00:08.015232Z",
     "iopub.status.busy": "2025-05-08T15:00:08.014927Z",
     "iopub.status.idle": "2025-05-08T15:00:08.020389Z",
     "shell.execute_reply": "2025-05-08T15:00:08.019565Z"
    },
    "papermill": {
     "duration": 0.011832,
     "end_time": "2025-05-08T15:00:08.021908",
     "exception": false,
     "start_time": "2025-05-08T15:00:08.010076",
     "status": "completed"
    },
    "tags": []
   },
   "outputs": [
    {
     "data": {
      "text/plain": [
       "366000"
      ]
     },
     "execution_count": 4,
     "metadata": {},
     "output_type": "execute_result"
    }
   ],
   "source": [
    "# Put your test code here\n",
    "round(365582,-3)"
   ]
  },
  {
   "cell_type": "markdown",
   "id": "c2cac00f",
   "metadata": {
    "papermill": {
     "duration": 0.003857,
     "end_time": "2025-05-08T15:00:08.029918",
     "exception": false,
     "start_time": "2025-05-08T15:00:08.026061",
     "status": "completed"
    },
    "tags": []
   },
   "source": [
    "Can you think of a case where this would be useful?  Once you're ready, run the code cell below to see the answer and to receive credit for completing the problem."
   ]
  },
  {
   "cell_type": "code",
   "execution_count": 5,
   "id": "79b9bc48",
   "metadata": {
    "execution": {
     "iopub.execute_input": "2025-05-08T15:00:08.039283Z",
     "iopub.status.busy": "2025-05-08T15:00:08.038989Z",
     "iopub.status.idle": "2025-05-08T15:00:08.046215Z",
     "shell.execute_reply": "2025-05-08T15:00:08.045279Z"
    },
    "papermill": {
     "duration": 0.014186,
     "end_time": "2025-05-08T15:00:08.048112",
     "exception": false,
     "start_time": "2025-05-08T15:00:08.033926",
     "status": "completed"
    },
    "tags": []
   },
   "outputs": [
    {
     "data": {
      "application/javascript": [
       "parent.postMessage({\"jupyterEvent\": \"custom.exercise_interaction\", \"data\": {\"interactionType\": 3, \"questionType\": 4, \"questionId\": \"2_RoundNdigitsProblem\", \"learnToolsVersion\": \"0.3.5\", \"valueTowardsCompletion\": 0.0, \"failureMessage\": \"\", \"exceptionClass\": \"\", \"trace\": \"\", \"outcomeType\": 4}}, \"*\")"
      ],
      "text/plain": [
       "<IPython.core.display.Javascript object>"
      ]
     },
     "metadata": {},
     "output_type": "display_data"
    },
    {
     "data": {
      "text/markdown": [
       "<span style=\"color:#33cc99\">Solution:</span> As you've seen, `ndigits=-1` rounds to the nearest 10, `ndigits=-2` rounds to the nearest 100 and so on. Where might this be useful? Suppose we're dealing with large numbers:\n",
       "\n",
       "> The area of Finland is 338,424 km²  \n",
       "> The area of Greenland is 2,166,086 km²\n",
       "\n",
       "We probably don't care whether it's really 338,424, or 338,425, or 338,177. All those digits of accuracy are just distracting. We can chop them off by calling `round()` with `ndigits=-3`:\n",
       "\n",
       "> The area of Finland is 338,000 km²  \n",
       "> The area of Greenland is 2,166,000 km²\n",
       "\n",
       "(We'll talk about how we would get the commas later when we talk about string formatting :))\n"
      ],
      "text/plain": [
       "Solution: As you've seen, `ndigits=-1` rounds to the nearest 10, `ndigits=-2` rounds to the nearest 100 and so on. Where might this be useful? Suppose we're dealing with large numbers:\n",
       "\n",
       "> The area of Finland is 338,424 km²  \n",
       "> The area of Greenland is 2,166,086 km²\n",
       "\n",
       "We probably don't care whether it's really 338,424, or 338,425, or 338,177. All those digits of accuracy are just distracting. We can chop them off by calling `round()` with `ndigits=-3`:\n",
       "\n",
       "> The area of Finland is 338,000 km²  \n",
       "> The area of Greenland is 2,166,000 km²\n",
       "\n",
       "(We'll talk about how we would get the commas later when we talk about string formatting :))"
      ]
     },
     "metadata": {},
     "output_type": "display_data"
    }
   ],
   "source": [
    "# Check your answer (Run this code cell to receive credit!)\n",
    "q2.solution()"
   ]
  },
  {
   "cell_type": "markdown",
   "id": "c6374f46",
   "metadata": {
    "papermill": {
     "duration": 0.004114,
     "end_time": "2025-05-08T15:00:08.056966",
     "exception": false,
     "start_time": "2025-05-08T15:00:08.052852",
     "status": "completed"
    },
    "tags": []
   },
   "source": [
    "# 3.\n",
    "\n",
    "In the previous exercise, the candy-sharing friends Alice, Bob and Carol tried to split candies evenly. For the sake of their friendship, any candies left over would be smashed. For example, if they collectively bring home 91 candies, they'll take 30 each and smash 1.\n",
    "\n",
    "Below is a simple function that will calculate the number of candies to smash for *any* number of total candies.\n",
    "\n",
    "Modify it so that it optionally takes a second argument representing the number of friends the candies are being split between. If no second argument is provided, it should assume 3 friends, as before.\n",
    "\n",
    "Update the docstring to reflect this new behaviour."
   ]
  },
  {
   "cell_type": "code",
   "execution_count": 6,
   "id": "ce12fe42",
   "metadata": {
    "execution": {
     "iopub.execute_input": "2025-05-08T15:00:08.066680Z",
     "iopub.status.busy": "2025-05-08T15:00:08.066330Z",
     "iopub.status.idle": "2025-05-08T15:00:08.074203Z",
     "shell.execute_reply": "2025-05-08T15:00:08.073337Z"
    },
    "papermill": {
     "duration": 0.01445,
     "end_time": "2025-05-08T15:00:08.075574",
     "exception": false,
     "start_time": "2025-05-08T15:00:08.061124",
     "status": "completed"
    },
    "tags": []
   },
   "outputs": [
    {
     "data": {
      "application/javascript": [
       "parent.postMessage({\"jupyterEvent\": \"custom.exercise_interaction\", \"data\": {\"outcomeType\": 1, \"valueTowardsCompletion\": 0.16666666666666666, \"interactionType\": 1, \"questionType\": 2, \"questionId\": \"3_CandySmashingFunctionProblem\", \"learnToolsVersion\": \"0.3.5\", \"failureMessage\": \"\", \"exceptionClass\": \"\", \"trace\": \"\"}}, \"*\")"
      ],
      "text/plain": [
       "<IPython.core.display.Javascript object>"
      ]
     },
     "metadata": {},
     "output_type": "display_data"
    },
    {
     "data": {
      "text/markdown": [
       "<span style=\"color:#33cc33\">Correct</span>"
      ],
      "text/plain": [
       "Correct"
      ]
     },
     "metadata": {},
     "output_type": "display_data"
    }
   ],
   "source": [
    "def to_smash(total_candies,friends=3):\n",
    "    \"\"\"Return the number of leftover candies that must be smashed after distributing\n",
    "    the given number of candies evenly between 3 friends.\n",
    "    \n",
    "    >>> to_smash(91)\n",
    "    1\n",
    "    \"\"\"\n",
    "    return total_candies % friends\n",
    "\n",
    "# Check your answer\n",
    "q3.check()"
   ]
  },
  {
   "cell_type": "code",
   "execution_count": 7,
   "id": "8ce6d670",
   "metadata": {
    "execution": {
     "iopub.execute_input": "2025-05-08T15:00:08.085922Z",
     "iopub.status.busy": "2025-05-08T15:00:08.085594Z",
     "iopub.status.idle": "2025-05-08T15:00:08.093079Z",
     "shell.execute_reply": "2025-05-08T15:00:08.092182Z"
    },
    "papermill": {
     "duration": 0.014324,
     "end_time": "2025-05-08T15:00:08.094604",
     "exception": false,
     "start_time": "2025-05-08T15:00:08.080280",
     "status": "completed"
    },
    "tags": []
   },
   "outputs": [
    {
     "data": {
      "application/javascript": [
       "parent.postMessage({\"jupyterEvent\": \"custom.exercise_interaction\", \"data\": {\"interactionType\": 2, \"questionType\": 2, \"questionId\": \"3_CandySmashingFunctionProblem\", \"learnToolsVersion\": \"0.3.5\", \"valueTowardsCompletion\": 0.0, \"failureMessage\": \"\", \"exceptionClass\": \"\", \"trace\": \"\", \"outcomeType\": 4}}, \"*\")"
      ],
      "text/plain": [
       "<IPython.core.display.Javascript object>"
      ]
     },
     "metadata": {},
     "output_type": "display_data"
    },
    {
     "data": {
      "text/markdown": [
       "<span style=\"color:#3366cc\">Hint:</span> Refer to the section of the last tutorial notebook where we talked about default arguments"
      ],
      "text/plain": [
       "Hint: Refer to the section of the last tutorial notebook where we talked about default arguments"
      ]
     },
     "metadata": {},
     "output_type": "display_data"
    }
   ],
   "source": [
    "q3.hint()"
   ]
  },
  {
   "cell_type": "code",
   "execution_count": 8,
   "id": "9b8bad30",
   "metadata": {
    "execution": {
     "iopub.execute_input": "2025-05-08T15:00:08.106027Z",
     "iopub.status.busy": "2025-05-08T15:00:08.104842Z",
     "iopub.status.idle": "2025-05-08T15:00:08.112182Z",
     "shell.execute_reply": "2025-05-08T15:00:08.111307Z"
    },
    "papermill": {
     "duration": 0.014388,
     "end_time": "2025-05-08T15:00:08.113716",
     "exception": false,
     "start_time": "2025-05-08T15:00:08.099328",
     "status": "completed"
    },
    "tags": []
   },
   "outputs": [
    {
     "data": {
      "application/javascript": [
       "parent.postMessage({\"jupyterEvent\": \"custom.exercise_interaction\", \"data\": {\"interactionType\": 3, \"questionType\": 2, \"questionId\": \"3_CandySmashingFunctionProblem\", \"learnToolsVersion\": \"0.3.5\", \"valueTowardsCompletion\": 0.0, \"failureMessage\": \"\", \"exceptionClass\": \"\", \"trace\": \"\", \"outcomeType\": 4}}, \"*\")"
      ],
      "text/plain": [
       "<IPython.core.display.Javascript object>"
      ]
     },
     "metadata": {},
     "output_type": "display_data"
    },
    {
     "data": {
      "text/markdown": [
       "<span style=\"color:#33cc99\">Solution:</span> \n",
       "```python\n",
       "def to_smash(total_candies, n_friends=3):\n",
       "    return total_candies % n_friends\n",
       "```"
      ],
      "text/plain": [
       "Solution: \n",
       "```python\n",
       "def to_smash(total_candies, n_friends=3):\n",
       "    return total_candies % n_friends\n",
       "```"
      ]
     },
     "metadata": {},
     "output_type": "display_data"
    }
   ],
   "source": [
    "q3.solution()"
   ]
  },
  {
   "cell_type": "markdown",
   "id": "30348f37",
   "metadata": {
    "papermill": {
     "duration": 0.004472,
     "end_time": "2025-05-08T15:00:08.123058",
     "exception": false,
     "start_time": "2025-05-08T15:00:08.118586",
     "status": "completed"
    },
    "tags": []
   },
   "source": [
    "# 4. (Optional)\n",
    "\n",
    "It may not be fun, but reading and understanding error messages will be an important part of your Python career.\n",
    "\n",
    "Each code cell below contains some commented buggy code. For each cell...\n",
    "\n",
    "1. Read the code and predict what you think will happen when it's run.\n",
    "2. Then uncomment the code and run it to see what happens. (**Tip**: In the kernel editor, you can highlight several lines and press `ctrl`+`/` to toggle commenting.)\n",
    "3. Fix the code (so that it accomplishes its intended purpose without throwing an exception)\n",
    "\n",
    "<!-- TODO: should this be autochecked? Delta is probably pretty small. -->"
   ]
  },
  {
   "cell_type": "code",
   "execution_count": 9,
   "id": "aaf14c88",
   "metadata": {
    "execution": {
     "iopub.execute_input": "2025-05-08T15:00:08.133433Z",
     "iopub.status.busy": "2025-05-08T15:00:08.133137Z",
     "iopub.status.idle": "2025-05-08T15:00:08.139115Z",
     "shell.execute_reply": "2025-05-08T15:00:08.138223Z"
    },
    "papermill": {
     "duration": 0.012872,
     "end_time": "2025-05-08T15:00:08.140518",
     "exception": false,
     "start_time": "2025-05-08T15:00:08.127646",
     "status": "completed"
    },
    "tags": []
   },
   "outputs": [
    {
     "data": {
      "text/plain": [
       "10.0"
      ]
     },
     "execution_count": 9,
     "metadata": {},
     "output_type": "execute_result"
    }
   ],
   "source": [
    "def ruound_to_two_places(num):\n",
    "    return round(num,2)\n",
    "ruound_to_two_places(9.9999)"
   ]
  },
  {
   "cell_type": "code",
   "execution_count": 10,
   "id": "b79ee3fd",
   "metadata": {
    "execution": {
     "iopub.execute_input": "2025-05-08T15:00:08.152308Z",
     "iopub.status.busy": "2025-05-08T15:00:08.152003Z",
     "iopub.status.idle": "2025-05-08T15:00:08.157358Z",
     "shell.execute_reply": "2025-05-08T15:00:08.156399Z"
    },
    "papermill": {
     "duration": 0.012986,
     "end_time": "2025-05-08T15:00:08.158960",
     "exception": false,
     "start_time": "2025-05-08T15:00:08.145974",
     "status": "completed"
    },
    "tags": []
   },
   "outputs": [
    {
     "name": "stdout",
     "output_type": "stream",
     "text": [
      "5\n"
     ]
    }
   ],
   "source": [
    "x = -10\n",
    "y = 5\n",
    "# # Which of the two variables above has the smallest absolute value?\n",
    "smallest_abs = min(abs(x),abs(y))\n",
    "print(smallest_abs)"
   ]
  },
  {
   "cell_type": "code",
   "execution_count": 11,
   "id": "b8d33fb2",
   "metadata": {
    "execution": {
     "iopub.execute_input": "2025-05-08T15:00:08.170027Z",
     "iopub.status.busy": "2025-05-08T15:00:08.169741Z",
     "iopub.status.idle": "2025-05-08T15:00:08.174726Z",
     "shell.execute_reply": "2025-05-08T15:00:08.173814Z"
    },
    "papermill": {
     "duration": 0.012314,
     "end_time": "2025-05-08T15:00:08.176275",
     "exception": false,
     "start_time": "2025-05-08T15:00:08.163961",
     "status": "completed"
    },
    "tags": []
   },
   "outputs": [
    {
     "name": "stdout",
     "output_type": "stream",
     "text": [
      "5\n"
     ]
    }
   ],
   "source": [
    "def f(x):\n",
    "    y = abs(x)\n",
    "    return y\n",
    "\n",
    "print(f(5))"
   ]
  },
  {
   "cell_type": "markdown",
   "id": "48b9c523",
   "metadata": {
    "papermill": {
     "duration": 0.004613,
     "end_time": "2025-05-08T15:00:08.186000",
     "exception": false,
     "start_time": "2025-05-08T15:00:08.181387",
     "status": "completed"
    },
    "tags": []
   },
   "source": [
    "# Keep Going\n",
    "\n",
    "Nice job with the code. Next up, you'll learn about *conditionals*, which you'll need to **[write interesting programs](https://www.kaggle.com/colinmorris/booleans-and-conditionals)**. "
   ]
  },
  {
   "cell_type": "markdown",
   "id": "7cceb1f6",
   "metadata": {
    "papermill": {
     "duration": 0.004497,
     "end_time": "2025-05-08T15:00:08.195275",
     "exception": false,
     "start_time": "2025-05-08T15:00:08.190778",
     "status": "completed"
    },
    "tags": []
   },
   "source": [
    "---\n",
    "\n",
    "\n",
    "\n",
    "\n",
    "*Have questions or comments? Visit the [course discussion forum](https://www.kaggle.com/learn/python/discussion) to chat with other learners.*"
   ]
  }
 ],
 "metadata": {
  "kaggle": {
   "accelerator": "none",
   "dataSources": [],
   "isGpuEnabled": false,
   "isInternetEnabled": false,
   "language": "python",
   "sourceType": "notebook"
  },
  "kernelspec": {
   "display_name": "Python 3",
   "language": "python",
   "name": "python3"
  },
  "language_info": {
   "codemirror_mode": {
    "name": "ipython",
    "version": 3
   },
   "file_extension": ".py",
   "mimetype": "text/x-python",
   "name": "python",
   "nbconvert_exporter": "python",
   "pygments_lexer": "ipython3",
   "version": "3.11.11"
  },
  "learntools_metadata": {
   "lesson_index": 1,
   "type": "exercise"
  },
  "papermill": {
   "default_parameters": {},
   "duration": 10.11813,
   "end_time": "2025-05-08T15:00:11.440758",
   "environment_variables": {},
   "exception": null,
   "input_path": "__notebook__.ipynb",
   "output_path": "__notebook__.ipynb",
   "parameters": {},
   "start_time": "2025-05-08T15:00:01.322628",
   "version": "2.6.0"
  }
 },
 "nbformat": 4,
 "nbformat_minor": 5
}
